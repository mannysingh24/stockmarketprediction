{
  "nbformat": 4,
  "nbformat_minor": 0,
  "metadata": {
    "colab": {
      "provenance": [],
      "collapsed_sections": []
    },
    "kernelspec": {
      "name": "python3",
      "display_name": "Python 3"
    },
    "language_info": {
      "name": "python"
    }
  },
  "cells": [
    {
      "cell_type": "markdown",
      "source": [
        "# Machine Learning Stock Market Prediction Application"
      ],
      "metadata": {
        "id": "6mSNyRwgeByg"
      }
    },
    {
      "cell_type": "code",
      "source": [
        "!pip install yfinance\n",
        "!pip install pandas"
      ],
      "metadata": {
        "colab": {
          "base_uri": "https://localhost:8080/"
        },
        "id": "ObvAraypJtpD",
        "outputId": "22d90c5f-ed13-44c2-f7b6-0b9579312730"
      },
      "execution_count": null,
      "outputs": [
        {
          "output_type": "stream",
          "name": "stdout",
          "text": [
            "Looking in indexes: https://pypi.org/simple, https://us-python.pkg.dev/colab-wheels/public/simple/\n",
            "Requirement already satisfied: yfinance in /usr/local/lib/python3.7/dist-packages (0.1.74)\n",
            "Requirement already satisfied: pandas>=0.24.0 in /usr/local/lib/python3.7/dist-packages (from yfinance) (1.3.5)\n",
            "Requirement already satisfied: lxml>=4.5.1 in /usr/local/lib/python3.7/dist-packages (from yfinance) (4.9.1)\n",
            "Requirement already satisfied: multitasking>=0.0.7 in /usr/local/lib/python3.7/dist-packages (from yfinance) (0.0.11)\n",
            "Requirement already satisfied: requests>=2.26 in /usr/local/lib/python3.7/dist-packages (from yfinance) (2.28.1)\n",
            "Requirement already satisfied: numpy>=1.15 in /usr/local/lib/python3.7/dist-packages (from yfinance) (1.21.6)\n",
            "Requirement already satisfied: python-dateutil>=2.7.3 in /usr/local/lib/python3.7/dist-packages (from pandas>=0.24.0->yfinance) (2.8.2)\n",
            "Requirement already satisfied: pytz>=2017.3 in /usr/local/lib/python3.7/dist-packages (from pandas>=0.24.0->yfinance) (2022.2.1)\n",
            "Requirement already satisfied: six>=1.5 in /usr/local/lib/python3.7/dist-packages (from python-dateutil>=2.7.3->pandas>=0.24.0->yfinance) (1.15.0)\n",
            "Requirement already satisfied: idna<4,>=2.5 in /usr/local/lib/python3.7/dist-packages (from requests>=2.26->yfinance) (2.10)\n",
            "Requirement already satisfied: certifi>=2017.4.17 in /usr/local/lib/python3.7/dist-packages (from requests>=2.26->yfinance) (2022.6.15)\n",
            "Requirement already satisfied: urllib3<1.27,>=1.21.1 in /usr/local/lib/python3.7/dist-packages (from requests>=2.26->yfinance) (1.24.3)\n",
            "Requirement already satisfied: charset-normalizer<3,>=2 in /usr/local/lib/python3.7/dist-packages (from requests>=2.26->yfinance) (2.1.1)\n",
            "Looking in indexes: https://pypi.org/simple, https://us-python.pkg.dev/colab-wheels/public/simple/\n",
            "Requirement already satisfied: pandas in /usr/local/lib/python3.7/dist-packages (1.3.5)\n",
            "Requirement already satisfied: numpy>=1.17.3 in /usr/local/lib/python3.7/dist-packages (from pandas) (1.21.6)\n",
            "Requirement already satisfied: python-dateutil>=2.7.3 in /usr/local/lib/python3.7/dist-packages (from pandas) (2.8.2)\n",
            "Requirement already satisfied: pytz>=2017.3 in /usr/local/lib/python3.7/dist-packages (from pandas) (2022.2.1)\n",
            "Requirement already satisfied: six>=1.5 in /usr/local/lib/python3.7/dist-packages (from python-dateutil>=2.7.3->pandas) (1.15.0)\n"
          ]
        }
      ]
    },
    {
      "cell_type": "code",
      "execution_count": null,
      "metadata": {
        "id": "4sWagPt-IEA8"
      },
      "outputs": [],
      "source": [
        "#This application attempts to predict the stock price of the next day using the historical s&p index data. \n",
        "#It is good to note that for the stock market, it can be risky looking at very historical data; in other words, focus on more recent and relevant data\n",
        "import yfinance as fin #obtains the stock market data from yahoo finance\n",
        "sandp500 = fin.Ticker(\"^GSPC\") #allows us to get price history for the s&p 500 index\n",
        "sandp500 = sandp500.history(period = \"max\") #queries the the whole history (single trading day)\n",
        "#removing unwanted sections of data\n",
        "del sandp500[\"Stock Splits\"]\n",
        "del sandp500[\"Dividends\"]\n",
        "#removing too old historical data\n",
        "sandp500 = sandp500.loc[\"1990-01-01\":].copy() #removes all dates before 1990"
      ]
    },
    {
      "cell_type": "code",
      "source": [
        "sandp500.plot.line(y=\"Close\", use_index=True) #Close = closing price"
      ],
      "metadata": {
        "colab": {
          "base_uri": "https://localhost:8080/",
          "height": 289
        },
        "id": "D2-F0OxvJYQK",
        "outputId": "7b7c15d9-ca55-4660-f8ca-8a6ada4ed04b"
      },
      "execution_count": null,
      "outputs": [
        {
          "output_type": "execute_result",
          "data": {
            "text/plain": [
              "<matplotlib.axes._subplots.AxesSubplot at 0x7f080c406050>"
            ]
          },
          "metadata": {},
          "execution_count": 15
        },
        {
          "output_type": "display_data",
          "data": {
            "text/plain": [
              "<Figure size 432x288 with 1 Axes>"
            ],
            "image/png": "[encoded data removed]"
          },
          "metadata": {
            "needs_background": "light"
          }
        }
      ]
    },
    {
      "cell_type": "code",
      "source": [
        "sandp500[\"Next-Day\"] = sandp500[\"Close\"].shift(-1) #shifted prices back one day for Close and added a next day column\n",
        "sandp500[\"Target\"] = (sandp500[\"Close\"] < sandp500[\"Next-Day\"]).astype(int) #checks to see if tomorrow's price will be larger than today's price"
      ],
      "metadata": {
        "id": "CAzZ0TlrLH49"
      },
      "execution_count": null,
      "outputs": []
    },
    {
      "cell_type": "markdown",
      "source": [
        "# Create the model, training set, test set, predictors, and then train the model."
      ],
      "metadata": {
        "id": "8RUEXdvfecff"
      }
    },
    {
      "cell_type": "code",
      "source": [
        "from numpy import random\n",
        "#training the model\n",
        "from sklearn.ensemble import RandomForestClassifier #used to find non-linear relationships with the target price (stock prices tend to have non linear relationships)\n",
        "\n",
        "model = RandomForestClassifier(n_estimators=100, min_samples_split=100, random_state=1) #the higher n_estimators is, the better the accuracy up to a limit; min_samples_split helps avoid overfitting (higher = lower accuracy); random_state when rerunning the model keeps previous guess accuracy\n",
        "training_set = sandp500.iloc[:-100] #train the model with all data except the last 100\n",
        "test_set = sandp500.iloc[-100:] #use the last 100 to test the model\n",
        "column_predictors = [\"Volume\", \"Close\", \"Low\", \"High\", \"Open\"]\n",
        "model.fit(training_set[column_predictors], training_set[\"Target\"]) #actually trains the model using the predictor columns from the s&p data to predict the target"
      ],
      "metadata": {
        "colab": {
          "base_uri": "https://localhost:8080/"
        },
        "id": "bapThW67L2vz",
        "outputId": "f6853b2c-984b-40e2-de8b-efdaac5492bc"
      },
      "execution_count": null,
      "outputs": [
        {
          "output_type": "execute_result",
          "data": {
            "text/plain": [
              "RandomForestClassifier(min_samples_split=100, random_state=1)"
            ]
          },
          "metadata": {},
          "execution_count": 18
        }
      ]
    },
    {
      "cell_type": "markdown",
      "source": [
        "# Obtain the model's predictions and see the accuracy percentage"
      ],
      "metadata": {
        "id": "l2nwu4VVeqqd"
      }
    },
    {
      "cell_type": "code",
      "source": [
        "#testing model accuracy\n",
        "from sklearn.metrics import precision_score #helps check if the stock price truly went up (helps check the prediction accuracy)\n",
        "import pandas\n",
        "\n",
        "predictions = model.predict(test_set[column_predictors]) #places predictions in a numpy array\n",
        "predictions = pandas.Series(predictions, index = test_set.index) #uses panda to convert numpy array to a more readable format\n",
        "precision_score(test_set[\"Target\"], predictions) #returns the accuracy percentage"
      ],
      "metadata": {
        "colab": {
          "base_uri": "https://localhost:8080/"
        },
        "id": "NvKEdvFZP1mn",
        "outputId": "f98ae6f0-9a9c-4f71-b3d2-c0e5c428c575"
      },
      "execution_count": null,
      "outputs": [
        {
          "output_type": "execute_result",
          "data": {
            "text/plain": [
              "0.5064935064935064"
            ]
          },
          "metadata": {},
          "execution_count": 20
        }
      ]
    },
    {
      "cell_type": "markdown",
      "source": [
        "# Compare predictions vs actual values on a graph"
      ],
      "metadata": {
        "id": "C_5jL-cpe3lE"
      }
    },
    {
      "cell_type": "code",
      "source": [
        "#combining the predicted values with our actual values\n",
        "pred_actual = pandas.concat([test_set[\"Target\"], predictions], axis = 1)\n",
        "pred_actual.plot() #0 --> predictions and Target --> actual values"
      ],
      "metadata": {
        "colab": {
          "base_uri": "https://localhost:8080/",
          "height": 294
        },
        "id": "6U4SLqXMRc_j",
        "outputId": "3323b167-2762-4270-f4f3-fa8351ecb776"
      },
      "execution_count": null,
      "outputs": [
        {
          "output_type": "execute_result",
          "data": {
            "text/plain": [
              "<matplotlib.axes._subplots.AxesSubplot at 0x7f07ff3d7a50>"
            ]
          },
          "metadata": {},
          "execution_count": 21
        },
        {
          "output_type": "display_data",
          "data": {
            "text/plain": [
              "<Figure size 432x288 with 1 Axes>"
            ],
            "image/png": "[encoded data removed]"
          },
          "metadata": {
            "needs_background": "light"
          }
        }
      ]
    },
    {
      "cell_type": "markdown",
      "source": [
        "# Implement backtesting to minimize error and obtain better accuracy. Place the prediction acquiring process within a function."
      ],
      "metadata": {
        "id": "rSk1uaE4e74A"
      }
    },
    {
      "cell_type": "code",
      "source": [
        "#more robust way of testing the model via backtesting; gives better accuracy for each year\n",
        "def backtest_model(model, given_data, preds, start = 2500, step = 250): #start --> take 10 years of data and train the model; step --> training the model for about a year; train with 10 years of data and predict the 11th year --> train with 11 years of data then predict the 12th year --> etc\n",
        "  obtained_predictions = []\n",
        "  for count in range(start, given_data.shape[0], step):\n",
        "    test_set = given_data.iloc[count:(count + step)].copy()\n",
        "    train_set = given_data.iloc[0:count].copy()\n",
        "    predictions = get_predictions(model, train_set, test_set, preds)\n",
        "    obtained_predictions.append(predictions)\n",
        "  return pandas.concat(obtained_predictions)\n",
        "\n",
        "\n",
        "#follows same steps as before, but in a function\n",
        "def get_predictions(model, train_set, test_set, preds):\n",
        "  model.fit(train_set[preds], train_set[\"Target\"])\n",
        "  predictions = model.predict(test_set[preds])\n",
        "  predictions = pandas.Series(predictions, index = test_set.index, name=\"Predictions\")\n",
        "  pred_actual = pandas.concat([test_set[\"Target\"], predictions], axis = 1)\n",
        "  return pred_actual"
      ],
      "metadata": {
        "id": "TPHKLFgSSMfh"
      },
      "execution_count": null,
      "outputs": []
    },
    {
      "cell_type": "code",
      "source": [
        "backtest_predictions = backtest_model(model, sandp500, column_predictors)"
      ],
      "metadata": {
        "id": "9WbuxdJDU-xH"
      },
      "execution_count": null,
      "outputs": []
    },
    {
      "cell_type": "code",
      "source": [
        "backtest_predictions[\"Predictions\"].value_counts() #gives the amount of days that the stock price increased and decreased"
      ],
      "metadata": {
        "colab": {
          "base_uri": "https://localhost:8080/"
        },
        "id": "F0EHZL18V3Te",
        "outputId": "98158e91-3682-4591-a6fd-fe300258b50d"
      },
      "execution_count": null,
      "outputs": [
        {
          "output_type": "execute_result",
          "data": {
            "text/plain": [
              "0    3301\n",
              "1    2440\n",
              "Name: Predictions, dtype: int64"
            ]
          },
          "metadata": {},
          "execution_count": 25
        }
      ]
    },
    {
      "cell_type": "code",
      "source": [
        "precision_score(backtest_predictions[\"Target\"], backtest_predictions[\"Predictions\"]) #accuracy percentage after backtest"
      ],
      "metadata": {
        "colab": {
          "base_uri": "https://localhost:8080/"
        },
        "id": "jRBrl55sWMbK",
        "outputId": "5d4cb0af-4f37-41be-e5bb-d7939bcda5ad"
      },
      "execution_count": null,
      "outputs": [
        {
          "output_type": "execute_result",
          "data": {
            "text/plain": [
              "0.5327868852459017"
            ]
          },
          "metadata": {},
          "execution_count": 26
        }
      ]
    },
    {
      "cell_type": "code",
      "source": [
        "backtest_predictions[\"Target\"].value_counts() / backtest_predictions.shape[0] #gives percentages for when the stock price increased or decreased (the stock price increased 54% of days)"
      ],
      "metadata": {
        "colab": {
          "base_uri": "https://localhost:8080/"
        },
        "id": "v9boKkHjWqBF",
        "outputId": "a4fcd18c-a557-49fc-a064-f366ff3ed289"
      },
      "execution_count": null,
      "outputs": [
        {
          "output_type": "execute_result",
          "data": {
            "text/plain": [
              "1    0.535969\n",
              "0    0.464031\n",
              "Name: Target, dtype: float64"
            ]
          },
          "metadata": {},
          "execution_count": 27
        }
      ]
    },
    {
      "cell_type": "markdown",
      "source": [
        "# Use precise predictors that don't use absolute numbers to obtain better accuracy. Obtain the ratio and rolling average to compare today's market price with the market price from different days ago."
      ],
      "metadata": {
        "id": "RZgEg97AfNB8"
      }
    },
    {
      "cell_type": "code",
      "source": [
        "#add more predictors to increase accuracy\n",
        "days = [2, 5, 60, 250, 1000] # close price in the last [2 days, last trading week, last 3 months, last year, last 4 years]\n",
        "#finding the ratio to determine if market has gone up a lot or down a lot; allows for the prediction of potential downfall or upward increase\n",
        "additional_predictors = []\n",
        "\n",
        "#checks current day's close price and the average in last 2, 5, 60, 250, and 1000 days\n",
        "for span in days:\n",
        "  average = sandp500.rolling(span)\n",
        "  average = average.mean() #if there is not enough days to calculate average, NaN is outputted\n",
        "  ratio = f\"Close_Ratio_{span}\" #add new column\n",
        "  calculated_trend = f\"Trend_{span}\" #add new column\n",
        "  sandp500[ratio] = sandp500[\"Close\"] / average[\"Close\"]\n",
        "  #looks at the past few days and finds the total sum of the target (the days when the stock price went up)\n",
        "  sandp500[calculated_trend] = sandp500.shift(1).rolling(span).sum()[\"Target\"]\n",
        "  additional_predictors = additional_predictors + [ratio, calculated_trend]\n",
        "\n",
        "#since NaN is expected, remove them\n",
        "sandp500 = sandp500.dropna()"
      ],
      "metadata": {
        "id": "3hE9s4YRXFAi"
      },
      "execution_count": null,
      "outputs": []
    },
    {
      "cell_type": "markdown",
      "source": [
        "# Make some small modifications to obtain more precise prediction values"
      ],
      "metadata": {
        "id": "4JMUeKvdfnMx"
      }
    },
    {
      "cell_type": "code",
      "source": [
        "#checking how our model peforms with the new predictors\n",
        "model = RandomForestClassifier(n_estimators = 200, min_samples_split = 50, random_state = 1) #adjusting parameters this time around\n",
        "\n",
        "#modified the prediction so it gives probability of getting 0 or 1 (better than just 0 or 1)\n",
        "def get_predictions(model, train_set, test_set, preds):\n",
        "  model.fit(train_set[preds], train_set[\"Target\"])\n",
        "  predictions = model.predict_proba(test_set[preds])[:,1] #get second column\n",
        "  #reduces total num of trading days and increases the chance of the price actually going up; 60% is a perfect balance threshold\n",
        "  #provides a more precise value for both\n",
        "  predictions[predictions < 0.60] = 0\n",
        "  predictions[predictions >= 0.60] = 1\n",
        "  predictions = pandas.Series(predictions, index = test_set.index, name=\"Predictions\")\n",
        "  pred_actual = pandas.concat([test_set[\"Target\"], predictions], axis = 1)\n",
        "  return pred_actual"
      ],
      "metadata": {
        "id": "TUXCrNiwaFnX"
      },
      "execution_count": null,
      "outputs": []
    },
    {
      "cell_type": "code",
      "source": [
        "#run the backtest again with modified model and prediction function\n",
        "#using the new predictors because the previous ones were absolute numbers (doesn't help with predicting whether the stock price will go up or down; ratios work better (price today vs what it was yesterday or a few days ago))\n",
        "backtest_predictions = backtest_model(model, sandp500, additional_predictors)"
      ],
      "metadata": {
        "id": "vBWHDmE3b6Xs"
      },
      "execution_count": null,
      "outputs": []
    },
    {
      "cell_type": "markdown",
      "source": [
        "# The new model provides more precise and accurate predictions now"
      ],
      "metadata": {
        "id": "xcFuCQ25fxjE"
      }
    },
    {
      "cell_type": "code",
      "source": [
        "#checking the predictions again\n",
        "backtest_predictions[\"Predictions\"].value_counts()"
      ],
      "metadata": {
        "colab": {
          "base_uri": "https://localhost:8080/"
        },
        "id": "lZqV-yCSc4yc",
        "outputId": "eeb70bc0-e0ad-4a38-9722-b79c80a11615"
      },
      "execution_count": null,
      "outputs": [
        {
          "output_type": "execute_result",
          "data": {
            "text/plain": [
              "0.0    3935\n",
              "1.0     805\n",
              "Name: Predictions, dtype: int64"
            ]
          },
          "metadata": {},
          "execution_count": 35
        }
      ]
    },
    {
      "cell_type": "markdown",
      "source": [
        "# The accuracy percentage has also increased. This is not a bad percentage given that it is only done with the S&P Prices and does not include many other relating factors."
      ],
      "metadata": {
        "id": "qZQPM_U0f_Qr"
      }
    },
    {
      "cell_type": "code",
      "source": [
        "#checking the accuracy percentage again\n",
        "#stock prices goes up about 57% of the time, not bad\n",
        "precision_score(backtest_predictions[\"Target\"], backtest_predictions[\"Predictions\"])"
      ],
      "metadata": {
        "colab": {
          "base_uri": "https://localhost:8080/"
        },
        "id": "EeWbEklFdEeU",
        "outputId": "230ed223-d596-41f7-c5e2-fe7ba12963d6"
      },
      "execution_count": null,
      "outputs": [
        {
          "output_type": "execute_result",
          "data": {
            "text/plain": [
              "0.5701863354037268"
            ]
          },
          "metadata": {},
          "execution_count": 36
        }
      ]
    }
  ]
}